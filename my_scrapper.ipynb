{
  "nbformat": 4,
  "nbformat_minor": 0,
  "metadata": {
    "colab": {
      "name": "my_scrapper.ipynb",
      "provenance": [],
      "collapsed_sections": [],
      "authorship_tag": "ABX9TyMJZQF2qZYGnwHgF75998Fo",
      "include_colab_link": true
    },
    "kernelspec": {
      "name": "python3",
      "display_name": "Python 3"
    },
    "language_info": {
      "name": "python"
    }
  },
  "cells": [
    {
      "cell_type": "markdown",
      "metadata": {
        "id": "view-in-github",
        "colab_type": "text"
      },
      "source": [
        "<a href=\"https://colab.research.google.com/github/LeroyJoel/Client/blob/main/my_scrapper.ipynb\" target=\"_parent\"><img src=\"https://colab.research.google.com/assets/colab-badge.svg\" alt=\"Open In Colab\"/></a>"
      ]
    },
    {
      "cell_type": "code",
      "metadata": {
        "id": "_rp1jRpiiaCi"
      },
      "source": [
        "import requests, re\n",
        "from bs4 import BeautifulSoup\n",
        "import pandas as pd\n",
        "import math"
      ],
      "execution_count": 3,
      "outputs": []
    },
    {
      "cell_type": "code",
      "metadata": {
        "id": "CojVc0x6iii-"
      },
      "source": [
        "r = requests.get(\"https://nigeriapropertycentre.com/for-rent?keywords=yaba&page=1\")\n",
        "c = r.content"
      ],
      "execution_count": null,
      "outputs": []
    },
    {
      "cell_type": "code",
      "metadata": {
        "id": "6tajzZbzqvqb"
      },
      "source": [
        "soup = BeautifulSoup(c,\"html.parser\")"
      ],
      "execution_count": null,
      "outputs": []
    },
    {
      "cell_type": "code",
      "metadata": {
        "colab": {
          "base_uri": "https://localhost:8080/"
        },
        "id": "bGynh1L9io4d",
        "outputId": "b1795512-2e2f-41bf-cb7d-177a84d6e88a"
      },
      "source": [
        "soup.find_all(\"div\", {\"class\":\"col-sm-8 col-xs-12\"})"
      ],
      "execution_count": null,
      "outputs": [
        {
          "output_type": "execute_result",
          "data": {
            "text/plain": [
              "[<div class=\"col-sm-8 col-xs-12\">\n",
              " <span class=\"pagination-results\">Results 1 - 20 of 185</span>\n",
              " <hr class=\"mv-10 hidden-sm hidden-md hidden-lg\"/>\n",
              " </div>]"
            ]
          },
          "metadata": {},
          "execution_count": 4
        }
      ]
    },
    {
      "cell_type": "code",
      "metadata": {
        "id": "OrlFmX__qylE"
      },
      "source": [
        "real = soup.find_all(\"div\",{\"class\":\"wp-block-footer\"})"
      ],
      "execution_count": null,
      "outputs": []
    },
    {
      "cell_type": "code",
      "metadata": {
        "colab": {
          "base_uri": "https://localhost:8080/",
          "height": 35
        },
        "id": "gEhaJsfDrVvE",
        "outputId": "92750604-e966-4eab-ff9a-3070a4d9739b"
      },
      "source": [
        "real[0].get_text().strip()"
      ],
      "execution_count": null,
      "outputs": [
        {
          "output_type": "execute_result",
          "data": {
            "application/vnd.google.colaboratory.intrinsic+json": {
              "type": "string"
            },
            "text/plain": [
              "'1 Bathroom1 Toilet10 Parking Spaces500 sqm Total Area Save'"
            ]
          },
          "metadata": {},
          "execution_count": 6
        }
      ]
    },
    {
      "cell_type": "code",
      "metadata": {
        "id": "14IgtVJXuJpj",
        "colab": {
          "base_uri": "https://localhost:8080/"
        },
        "outputId": "f0cd36cf-707b-449e-d8c0-03cc9763f31a"
      },
      "source": [
        "re.findall(\"..Bathroom\",real[0].get_text().strip())"
      ],
      "execution_count": null,
      "outputs": [
        {
          "output_type": "execute_result",
          "data": {
            "text/plain": [
              "['1 Bathroom']"
            ]
          },
          "metadata": {},
          "execution_count": 7
        }
      ]
    },
    {
      "cell_type": "code",
      "metadata": {
        "id": "mBln9lJkxHMz"
      },
      "source": [
        "card_n = soup.find_all(\"div\",{\"class\":\"col-sm-8 col-xs-12\"})[0].text.strip().split(\" \")[3]\n",
        "card_t = soup.find_all(\"div\",{\"class\":\"col-sm-8 col-xs-12\"})[0].text.strip().split(\" \")[5]"
      ],
      "execution_count": null,
      "outputs": []
    },
    {
      "cell_type": "code",
      "metadata": {
        "id": "iZvwPtiLiZxP"
      },
      "source": [
        ""
      ],
      "execution_count": null,
      "outputs": []
    },
    {
      "cell_type": "code",
      "metadata": {
        "colab": {
          "base_uri": "https://localhost:8080/"
        },
        "id": "9eeW8unth_zM",
        "outputId": "aa376f74-d123-4ca4-878b-838c428e34a6"
      },
      "source": [
        "soup.find_all(\"div\", {\"class\":\"col-sm-8 col-xs-12\"})"
      ],
      "execution_count": null,
      "outputs": [
        {
          "output_type": "execute_result",
          "data": {
            "text/plain": [
              "[<div class=\"col-sm-8 col-xs-12\">\n",
              " <span class=\"pagination-results\">Results 1 - 20 of 185</span>\n",
              " <hr class=\"mv-10 hidden-sm hidden-md hidden-lg\"/>\n",
              " </div>]"
            ]
          },
          "metadata": {},
          "execution_count": 9
        }
      ]
    },
    {
      "cell_type": "code",
      "metadata": {
        "id": "8HHbRkb-0dFM"
      },
      "source": [
        "# card_n"
      ],
      "execution_count": null,
      "outputs": []
    },
    {
      "cell_type": "code",
      "metadata": {
        "colab": {
          "base_uri": "https://localhost:8080/"
        },
        "id": "jbI7DwBe4iDs",
        "outputId": "6074d04d-3d0b-4973-e04a-10f06781f887"
      },
      "source": [
        "num_pages = math.ceil(int(card_t)/int(card_n))\n",
        "num_pages"
      ],
      "execution_count": null,
      "outputs": [
        {
          "output_type": "execute_result",
          "data": {
            "text/plain": [
              "10"
            ]
          },
          "metadata": {},
          "execution_count": 11
        }
      ]
    },
    {
      "cell_type": "code",
      "metadata": {
        "id": "04QmfquS52FQ"
      },
      "source": [
        "locations = [\"yaba\", \"ogba\", \"iyana+ipaja\", \"surulere\", \"gbagada\", \"ikeja\", \"lekki\", \"ajah\", \"ikorodu\"]"
      ],
      "execution_count": 1,
      "outputs": []
    },
    {
      "cell_type": "code",
      "metadata": {
        "id": "PU4IlDJi8Edq",
        "colab": {
          "base_uri": "https://localhost:8080/"
        },
        "outputId": "b9ed5e4c-0e36-4ad7-ff5e-3caa099267a7"
      },
      "source": [
        "output_dict = {\"title\":[],\n",
        "               \"location\":[],\n",
        "               \"desc\":[],\n",
        "               \"price\":[],\n",
        "               \"bath\":[],\n",
        "               \"bed\":[],\n",
        "               \"toilet\":[],\n",
        "               \"area\":[]}\n",
        "\n",
        "for location in locations:\n",
        "    r=requests.get(f\"https://nigeriapropertycentre.com/for-rent?keywords={location}&page=1\")\n",
        "    c=r.content\n",
        "\n",
        "    soup=BeautifulSoup(c,\"html.parser\")\n",
        "\n",
        "    card_n = soup.find_all(\"div\", {\"class\":\"col-sm-8 col-xs-12\"})[0].text.strip().split(\" \")[3]\n",
        "    card_t = soup.find_all(\"div\", {\"class\":\"col-sm-8 col-xs-12\"})[0].text.strip().split(\" \")[5]\n",
        "    try:\n",
        "        card_n = int(card_n.replace(\",\",\"\"))\n",
        "        card_t = int(card_t.replace(\",\",\"\"))\n",
        "    except:\n",
        "        pass\n",
        "    \n",
        "    num_pages = math.ceil(int(card_t)/int(card_n))\n",
        "#     num_pages\n",
        "    print(\"\\n\")\n",
        "    print(f\"{location.upper()} has {num_pages} pages\")\n",
        "    \n",
        "    for page_n in range(1, num_pages+1):\n",
        "        url = f\"www.nigeriapropertycentre.com/for-rent?keywords={location}&page={page_n}\"\n",
        "        r = requests.get(\"http://\"+url)\n",
        "        c=r.content\n",
        "        \n",
        "        soup=BeautifulSoup(c,\"html.parser\")\n",
        "        \n",
        "        #get data for title\n",
        "        title_list = soup.find_all(\"h4\", {\"class\":\"content-title\"})\n",
        "        for i in range(len(title_list)):\n",
        "            try:\n",
        "                output_dict[\"title\"].append(title_list[i].text.strip())\n",
        "            except:\n",
        "                output_dict[\"title\"].append(\"\")\n",
        "        #get data for location\n",
        "        location_list = soup.find_all(\"address\", {\"class\":\"voffset-bottom-10\"})\n",
        "        for i in range(len(location_list)):\n",
        "            try:\n",
        "                output_dict[\"location\"].append(location_list[i].text.strip())\n",
        "            except:\n",
        "                output_dict[\"location\"].append(\"\")\n",
        "        #get data for description\n",
        "        description_list = soup.find_all(\"div\", {\"class\":\"description hidden-xs\"})\n",
        "        for i in range(len(description_list)):\n",
        "            try:\n",
        "                output_dict[\"desc\"].append(description_list[i].find(\"p\").text.strip().replace(\"\\n\",\"\"))\n",
        "            except:\n",
        "                output_dict[\"desc\"].append(\"\")\n",
        "        #get data for price\n",
        "        price_list = soup.find_all(\"span\", {\"class\":\"pull-sm-left\"})\n",
        "        for i in range(len(price_list)):\n",
        "            try:\n",
        "                output_dict[\"price\"].append(price_list[i].text.strip().split(\" \")[0].replace(\"₦\",\"\").replace(\",\",\"\"))\n",
        "            except:\n",
        "                output_dict[\"price\"].append(\"\")\n",
        "        #get bath for bedroom\n",
        "        bed_list = soup.find_all(\"ul\", {\"class\":\"aux-info\"})\n",
        "        for i in range(len(bed_list)):\n",
        "            try:\n",
        "                output_dict[\"bed\"].append(re.findall(\"..Bedrooms\", bed_list[i].text)[0])\n",
        "            except:\n",
        "                output_dict[\"bed\"].append(\"\")\n",
        "        #get bath for bath\n",
        "        bath_list = soup.find_all(\"ul\", {\"class\":\"aux-info\"})\n",
        "        for i in range(len(bath_list)):\n",
        "            try:\n",
        "                output_dict[\"bath\"].append(re.findall(\"..Bathrooms\", bath_list[i].text)[0])\n",
        "            except:\n",
        "                output_dict[\"bath\"].append(\"\")\n",
        "        #get bath for toilet\n",
        "        toilet_list = soup.find_all(\"ul\", {\"class\":\"aux-info\"})\n",
        "        for i in range(len(toilet_list)):\n",
        "            try:\n",
        "                output_dict[\"toilet\"].append(re.findall(\"..Toilets\", toilet_list[i].text)[0])\n",
        "            except:\n",
        "                output_dict[\"toilet\"].append(\"\")\n",
        "        for i in range(len(location_list)):\n",
        "            output_dict[\"area\"].append(location)\n",
        "        \n",
        "        #Giving update about scraping\n",
        "        print(f\"{location.upper()} page {page_n} done\")\n",
        "        \n",
        "        \n",
        "        \n",
        "#         break\n",
        "#     break"
      ],
      "execution_count": 5,
      "outputs": [
        {
          "output_type": "stream",
          "name": "stdout",
          "text": [
            "\n",
            "\n",
            "YABA has 10 pages\n",
            "YABA page 1 done\n",
            "YABA page 2 done\n",
            "YABA page 3 done\n",
            "YABA page 4 done\n",
            "YABA page 5 done\n",
            "YABA page 6 done\n",
            "YABA page 7 done\n",
            "YABA page 8 done\n",
            "YABA page 9 done\n",
            "YABA page 10 done\n",
            "\n",
            "\n",
            "OGBA has 5 pages\n",
            "OGBA page 1 done\n",
            "OGBA page 2 done\n",
            "OGBA page 3 done\n",
            "OGBA page 4 done\n",
            "OGBA page 5 done\n",
            "\n",
            "\n",
            "IYANA+IPAJA has 1 pages\n",
            "IYANA+IPAJA page 1 done\n",
            "\n",
            "\n",
            "SURULERE has 14 pages\n",
            "SURULERE page 1 done\n",
            "SURULERE page 2 done\n",
            "SURULERE page 3 done\n",
            "SURULERE page 4 done\n",
            "SURULERE page 5 done\n",
            "SURULERE page 6 done\n",
            "SURULERE page 7 done\n",
            "SURULERE page 8 done\n",
            "SURULERE page 9 done\n",
            "SURULERE page 10 done\n",
            "SURULERE page 11 done\n",
            "SURULERE page 12 done\n",
            "SURULERE page 13 done\n",
            "SURULERE page 14 done\n",
            "\n",
            "\n",
            "GBAGADA has 8 pages\n",
            "GBAGADA page 1 done\n",
            "GBAGADA page 2 done\n",
            "GBAGADA page 3 done\n",
            "GBAGADA page 4 done\n",
            "GBAGADA page 5 done\n",
            "GBAGADA page 6 done\n",
            "GBAGADA page 7 done\n",
            "GBAGADA page 8 done\n",
            "\n",
            "\n",
            "IKEJA has 24 pages\n",
            "IKEJA page 1 done\n",
            "IKEJA page 2 done\n",
            "IKEJA page 3 done\n",
            "IKEJA page 4 done\n",
            "IKEJA page 5 done\n",
            "IKEJA page 6 done\n",
            "IKEJA page 7 done\n",
            "IKEJA page 8 done\n",
            "IKEJA page 9 done\n",
            "IKEJA page 10 done\n",
            "IKEJA page 11 done\n",
            "IKEJA page 12 done\n",
            "IKEJA page 13 done\n",
            "IKEJA page 14 done\n",
            "IKEJA page 15 done\n",
            "IKEJA page 16 done\n",
            "IKEJA page 17 done\n",
            "IKEJA page 18 done\n",
            "IKEJA page 19 done\n",
            "IKEJA page 20 done\n",
            "IKEJA page 21 done\n",
            "IKEJA page 22 done\n",
            "IKEJA page 23 done\n",
            "IKEJA page 24 done\n",
            "\n",
            "\n",
            "LEKKI has 134 pages\n",
            "LEKKI page 1 done\n",
            "LEKKI page 2 done\n",
            "LEKKI page 3 done\n",
            "LEKKI page 4 done\n",
            "LEKKI page 5 done\n",
            "LEKKI page 6 done\n",
            "LEKKI page 7 done\n",
            "LEKKI page 8 done\n",
            "LEKKI page 9 done\n",
            "LEKKI page 10 done\n",
            "LEKKI page 11 done\n",
            "LEKKI page 12 done\n",
            "LEKKI page 13 done\n",
            "LEKKI page 14 done\n",
            "LEKKI page 15 done\n",
            "LEKKI page 16 done\n",
            "LEKKI page 17 done\n",
            "LEKKI page 18 done\n",
            "LEKKI page 19 done\n",
            "LEKKI page 20 done\n",
            "LEKKI page 21 done\n",
            "LEKKI page 22 done\n",
            "LEKKI page 23 done\n",
            "LEKKI page 24 done\n",
            "LEKKI page 25 done\n",
            "LEKKI page 26 done\n",
            "LEKKI page 27 done\n",
            "LEKKI page 28 done\n",
            "LEKKI page 29 done\n",
            "LEKKI page 30 done\n",
            "LEKKI page 31 done\n",
            "LEKKI page 32 done\n",
            "LEKKI page 33 done\n",
            "LEKKI page 34 done\n",
            "LEKKI page 35 done\n",
            "LEKKI page 36 done\n",
            "LEKKI page 37 done\n",
            "LEKKI page 38 done\n",
            "LEKKI page 39 done\n",
            "LEKKI page 40 done\n",
            "LEKKI page 41 done\n",
            "LEKKI page 42 done\n",
            "LEKKI page 43 done\n",
            "LEKKI page 44 done\n",
            "LEKKI page 45 done\n",
            "LEKKI page 46 done\n",
            "LEKKI page 47 done\n",
            "LEKKI page 48 done\n",
            "LEKKI page 49 done\n",
            "LEKKI page 50 done\n",
            "LEKKI page 51 done\n",
            "LEKKI page 52 done\n",
            "LEKKI page 53 done\n",
            "LEKKI page 54 done\n",
            "LEKKI page 55 done\n",
            "LEKKI page 56 done\n",
            "LEKKI page 57 done\n",
            "LEKKI page 58 done\n",
            "LEKKI page 59 done\n",
            "LEKKI page 60 done\n",
            "LEKKI page 61 done\n",
            "LEKKI page 62 done\n",
            "LEKKI page 63 done\n",
            "LEKKI page 64 done\n",
            "LEKKI page 65 done\n",
            "LEKKI page 66 done\n",
            "LEKKI page 67 done\n",
            "LEKKI page 68 done\n",
            "LEKKI page 69 done\n",
            "LEKKI page 70 done\n",
            "LEKKI page 71 done\n",
            "LEKKI page 72 done\n",
            "LEKKI page 73 done\n",
            "LEKKI page 74 done\n",
            "LEKKI page 75 done\n",
            "LEKKI page 76 done\n",
            "LEKKI page 77 done\n",
            "LEKKI page 78 done\n",
            "LEKKI page 79 done\n",
            "LEKKI page 80 done\n",
            "LEKKI page 81 done\n",
            "LEKKI page 82 done\n",
            "LEKKI page 83 done\n",
            "LEKKI page 84 done\n",
            "LEKKI page 85 done\n",
            "LEKKI page 86 done\n",
            "LEKKI page 87 done\n",
            "LEKKI page 88 done\n",
            "LEKKI page 89 done\n",
            "LEKKI page 90 done\n",
            "LEKKI page 91 done\n",
            "LEKKI page 92 done\n",
            "LEKKI page 93 done\n",
            "LEKKI page 94 done\n",
            "LEKKI page 95 done\n",
            "LEKKI page 96 done\n",
            "LEKKI page 97 done\n",
            "LEKKI page 98 done\n",
            "LEKKI page 99 done\n",
            "LEKKI page 100 done\n",
            "LEKKI page 101 done\n",
            "LEKKI page 102 done\n",
            "LEKKI page 103 done\n",
            "LEKKI page 104 done\n",
            "LEKKI page 105 done\n",
            "LEKKI page 106 done\n",
            "LEKKI page 107 done\n",
            "LEKKI page 108 done\n",
            "LEKKI page 109 done\n",
            "LEKKI page 110 done\n",
            "LEKKI page 111 done\n",
            "LEKKI page 112 done\n",
            "LEKKI page 113 done\n",
            "LEKKI page 114 done\n",
            "LEKKI page 115 done\n",
            "LEKKI page 116 done\n",
            "LEKKI page 117 done\n",
            "LEKKI page 118 done\n",
            "LEKKI page 119 done\n",
            "LEKKI page 120 done\n",
            "LEKKI page 121 done\n",
            "LEKKI page 122 done\n",
            "LEKKI page 123 done\n",
            "LEKKI page 124 done\n",
            "LEKKI page 125 done\n",
            "LEKKI page 126 done\n",
            "LEKKI page 127 done\n",
            "LEKKI page 128 done\n",
            "LEKKI page 129 done\n",
            "LEKKI page 130 done\n",
            "LEKKI page 131 done\n",
            "LEKKI page 132 done\n",
            "LEKKI page 133 done\n",
            "LEKKI page 134 done\n",
            "\n",
            "\n",
            "AJAH has 29 pages\n",
            "AJAH page 1 done\n",
            "AJAH page 2 done\n",
            "AJAH page 3 done\n",
            "AJAH page 4 done\n",
            "AJAH page 5 done\n",
            "AJAH page 6 done\n",
            "AJAH page 7 done\n",
            "AJAH page 8 done\n",
            "AJAH page 9 done\n",
            "AJAH page 10 done\n",
            "AJAH page 11 done\n",
            "AJAH page 12 done\n",
            "AJAH page 13 done\n",
            "AJAH page 14 done\n",
            "AJAH page 15 done\n",
            "AJAH page 16 done\n",
            "AJAH page 17 done\n",
            "AJAH page 18 done\n",
            "AJAH page 19 done\n",
            "AJAH page 20 done\n",
            "AJAH page 21 done\n",
            "AJAH page 22 done\n",
            "AJAH page 23 done\n",
            "AJAH page 24 done\n",
            "AJAH page 25 done\n",
            "AJAH page 26 done\n",
            "AJAH page 27 done\n",
            "AJAH page 28 done\n",
            "AJAH page 29 done\n",
            "\n",
            "\n",
            "IKORODU has 8 pages\n",
            "IKORODU page 1 done\n",
            "IKORODU page 2 done\n",
            "IKORODU page 3 done\n",
            "IKORODU page 4 done\n",
            "IKORODU page 5 done\n",
            "IKORODU page 6 done\n",
            "IKORODU page 7 done\n",
            "IKORODU page 8 done\n"
          ]
        }
      ]
    },
    {
      "cell_type": "code",
      "metadata": {
        "id": "tM4uGkn_SlPu"
      },
      "source": [
        "#converting data to a pandas dataframe\n",
        "output_df = pd.DataFrame(output_dict)"
      ],
      "execution_count": 6,
      "outputs": []
    },
    {
      "cell_type": "code",
      "metadata": {
        "id": "oFiee0V1kaFf",
        "colab": {
          "base_uri": "https://localhost:8080/",
          "height": 289
        },
        "outputId": "bde2d89f-278c-4498-93d3-c90acdb62362"
      },
      "source": [
        "output_df.head()"
      ],
      "execution_count": 7,
      "outputs": [
        {
          "output_type": "execute_result",
          "data": {
            "text/html": [
              "<div>\n",
              "<style scoped>\n",
              "    .dataframe tbody tr th:only-of-type {\n",
              "        vertical-align: middle;\n",
              "    }\n",
              "\n",
              "    .dataframe tbody tr th {\n",
              "        vertical-align: top;\n",
              "    }\n",
              "\n",
              "    .dataframe thead th {\n",
              "        text-align: right;\n",
              "    }\n",
              "</style>\n",
              "<table border=\"1\" class=\"dataframe\">\n",
              "  <thead>\n",
              "    <tr style=\"text-align: right;\">\n",
              "      <th></th>\n",
              "      <th>title</th>\n",
              "      <th>location</th>\n",
              "      <th>desc</th>\n",
              "      <th>price</th>\n",
              "      <th>bath</th>\n",
              "      <th>bed</th>\n",
              "      <th>toilet</th>\n",
              "      <th>area</th>\n",
              "    </tr>\n",
              "  </thead>\n",
              "  <tbody>\n",
              "    <tr>\n",
              "      <th>0</th>\n",
              "      <td>Shop for rent</td>\n",
              "      <td>Yaba, Lagos., Yaba, Lagos</td>\n",
              "      <td>2 units of spacious shops for rent in yaba, la...</td>\n",
              "      <td>400000</td>\n",
              "      <td></td>\n",
              "      <td></td>\n",
              "      <td></td>\n",
              "      <td>yaba</td>\n",
              "    </tr>\n",
              "    <tr>\n",
              "      <th>1</th>\n",
              "      <td>2 bedroom semi-detached duplex for rent</td>\n",
              "      <td>Yaba, Lagos., Yaba, Lagos</td>\n",
              "      <td>Spacious 2 bedroom all rooms ensuite duplex + ...</td>\n",
              "      <td>900000</td>\n",
              "      <td>2 Bathrooms</td>\n",
              "      <td>2 Bedrooms</td>\n",
              "      <td>3 Toilets</td>\n",
              "      <td>yaba</td>\n",
              "    </tr>\n",
              "    <tr>\n",
              "      <th>2</th>\n",
              "      <td>Self contained (single rooms) for rent</td>\n",
              "      <td>Off Bajulaye Morocco Road Very Accessible To Y...</td>\n",
              "      <td>Newly built roomself with prepaid meterscreede...</td>\n",
              "      <td>450000</td>\n",
              "      <td></td>\n",
              "      <td></td>\n",
              "      <td></td>\n",
              "      <td>yaba</td>\n",
              "    </tr>\n",
              "    <tr>\n",
              "      <th>3</th>\n",
              "      <td>1 bedroom mini flat for rent</td>\n",
              "      <td>Off Morocco Bajulaye Road Easy Accessible From...</td>\n",
              "      <td>Newly built standard miniflaton an interlock r...</td>\n",
              "      <td>700000</td>\n",
              "      <td>2 Bathrooms</td>\n",
              "      <td></td>\n",
              "      <td>2 Toilets</td>\n",
              "      <td>yaba</td>\n",
              "    </tr>\n",
              "    <tr>\n",
              "      <th>4</th>\n",
              "      <td>Plaza / complex / mall for rent</td>\n",
              "      <td>Bajulaye Road, Fola Agoro, Yaba, Lagos</td>\n",
              "      <td>A bigger space @ shomolu folagoro by unilag ya...</td>\n",
              "      <td>2500000</td>\n",
              "      <td></td>\n",
              "      <td></td>\n",
              "      <td></td>\n",
              "      <td>yaba</td>\n",
              "    </tr>\n",
              "  </tbody>\n",
              "</table>\n",
              "</div>"
            ],
            "text/plain": [
              "                                     title  ...  area\n",
              "0                            Shop for rent  ...  yaba\n",
              "1  2 bedroom semi-detached duplex for rent  ...  yaba\n",
              "2   Self contained (single rooms) for rent  ...  yaba\n",
              "3             1 bedroom mini flat for rent  ...  yaba\n",
              "4          Plaza / complex / mall for rent  ...  yaba\n",
              "\n",
              "[5 rows x 8 columns]"
            ]
          },
          "metadata": {},
          "execution_count": 7
        }
      ]
    },
    {
      "cell_type": "code",
      "metadata": {
        "colab": {
          "base_uri": "https://localhost:8080/"
        },
        "id": "0YvpzWyMp7gO",
        "outputId": "ac4b6528-47b6-4199-ff8b-3c97016d4db0"
      },
      "source": [
        "output_df.shape"
      ],
      "execution_count": 8,
      "outputs": [
        {
          "output_type": "execute_result",
          "data": {
            "text/plain": [
              "(4743, 8)"
            ]
          },
          "metadata": {},
          "execution_count": 8
        }
      ]
    },
    {
      "cell_type": "code",
      "metadata": {
        "id": "lwCj5TvCqHgI"
      },
      "source": [
        "output_df.to_csv(\"Dataset.csv\")"
      ],
      "execution_count": 9,
      "outputs": []
    },
    {
      "cell_type": "code",
      "metadata": {
        "id": "Tf8HVXjvqUDc"
      },
      "source": [
        "# from google.colab import files"
      ],
      "execution_count": 10,
      "outputs": []
    },
    {
      "cell_type": "code",
      "metadata": {
        "colab": {
          "base_uri": "https://localhost:8080/",
          "height": 17
        },
        "id": "HAlSxhD7svKZ",
        "outputId": "c1624fed-439a-44e8-c8bd-ecd449206218"
      },
      "source": [
        "# files.download(\"Dataset.csv\")"
      ],
      "execution_count": 11,
      "outputs": [
        {
          "output_type": "display_data",
          "data": {
            "application/javascript": [
              "\n",
              "    async function download(id, filename, size) {\n",
              "      if (!google.colab.kernel.accessAllowed) {\n",
              "        return;\n",
              "      }\n",
              "      const div = document.createElement('div');\n",
              "      const label = document.createElement('label');\n",
              "      label.textContent = `Downloading \"${filename}\": `;\n",
              "      div.appendChild(label);\n",
              "      const progress = document.createElement('progress');\n",
              "      progress.max = size;\n",
              "      div.appendChild(progress);\n",
              "      document.body.appendChild(div);\n",
              "\n",
              "      const buffers = [];\n",
              "      let downloaded = 0;\n",
              "\n",
              "      const channel = await google.colab.kernel.comms.open(id);\n",
              "      // Send a message to notify the kernel that we're ready.\n",
              "      channel.send({})\n",
              "\n",
              "      for await (const message of channel.messages) {\n",
              "        // Send a message to notify the kernel that we're ready.\n",
              "        channel.send({})\n",
              "        if (message.buffers) {\n",
              "          for (const buffer of message.buffers) {\n",
              "            buffers.push(buffer);\n",
              "            downloaded += buffer.byteLength;\n",
              "            progress.value = downloaded;\n",
              "          }\n",
              "        }\n",
              "      }\n",
              "      const blob = new Blob(buffers, {type: 'application/binary'});\n",
              "      const a = document.createElement('a');\n",
              "      a.href = window.URL.createObjectURL(blob);\n",
              "      a.download = filename;\n",
              "      div.appendChild(a);\n",
              "      a.click();\n",
              "      div.remove();\n",
              "    }\n",
              "  "
            ],
            "text/plain": [
              "<IPython.core.display.Javascript object>"
            ]
          },
          "metadata": {}
        },
        {
          "output_type": "display_data",
          "data": {
            "application/javascript": [
              "download(\"download_2e333a26-8d54-4f32-9850-7af3f75a5ca4\", \"Dataset.csv\", 2047300)"
            ],
            "text/plain": [
              "<IPython.core.display.Javascript object>"
            ]
          },
          "metadata": {}
        }
      ]
    },
    {
      "cell_type": "code",
      "metadata": {
        "id": "t6IFSj-Ls9N8"
      },
      "source": [
        ""
      ],
      "execution_count": null,
      "outputs": []
    }
  ]
}