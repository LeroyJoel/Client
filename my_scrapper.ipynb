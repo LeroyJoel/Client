{
  "nbformat": 4,
  "nbformat_minor": 0,
  "metadata": {
    "colab": {
      "name": "my_scrapper.ipynb",
      "provenance": [],
      "collapsed_sections": [],
      "toc_visible": true,
      "authorship_tag": "ABX9TyPSRwYoNlUneh30ibtXz+vs",
      "include_colab_link": true
    },
    "kernelspec": {
      "name": "python3",
      "display_name": "Python 3"
    },
    "language_info": {
      "name": "python"
    }
  },
  "cells": [
    {
      "cell_type": "markdown",
      "metadata": {
        "id": "view-in-github",
        "colab_type": "text"
      },
      "source": [
        "<a href=\"https://colab.research.google.com/github/LeroyJoel/Client/blob/main/my_scrapper.ipynb\" target=\"_parent\"><img src=\"https://colab.research.google.com/assets/colab-badge.svg\" alt=\"Open In Colab\"/></a>"
      ]
    },
    {
      "cell_type": "code",
      "metadata": {
        "id": "_rp1jRpiiaCi"
      },
      "source": [
        "import requests, re\n",
        "from bs4 import BeautifulSoup\n",
        "import pandas as pd\n",
        "import math"
      ],
      "execution_count": 22,
      "outputs": []
    },
    {
      "cell_type": "code",
      "metadata": {
        "id": "CojVc0x6iii-"
      },
      "source": [
        "r = requests.get(\"https://nigeriapropertycentre.com/for-rent?keywords=yaba&page=1\")\n",
        "c = r.content"
      ],
      "execution_count": null,
      "outputs": []
    },
    {
      "cell_type": "code",
      "metadata": {
        "id": "6tajzZbzqvqb"
      },
      "source": [
        "soup = BeautifulSoup(c,\"html.parser\")"
      ],
      "execution_count": null,
      "outputs": []
    },
    {
      "cell_type": "code",
      "metadata": {
        "id": "OrlFmX__qylE"
      },
      "source": [
        "real = soup.find_all(\"div\",{\"class\":\"wp-block-footer\"})"
      ],
      "execution_count": null,
      "outputs": []
    },
    {
      "cell_type": "code",
      "metadata": {
        "colab": {
          "base_uri": "https://localhost:8080/",
          "height": 35
        },
        "id": "gEhaJsfDrVvE",
        "outputId": "31ff9a41-70c2-4628-ca35-f9fcfd30e74f"
      },
      "source": [
        "real[0].get_text().strip()"
      ],
      "execution_count": null,
      "outputs": [
        {
          "output_type": "execute_result",
          "data": {
            "application/vnd.google.colaboratory.intrinsic+json": {
              "type": "string"
            },
            "text/plain": [
              "'1 Bathroom1 Toilet10 Parking Spaces500 sqm Total Area Save'"
            ]
          },
          "metadata": {},
          "execution_count": 17
        }
      ]
    },
    {
      "cell_type": "code",
      "metadata": {
        "id": "14IgtVJXuJpj",
        "colab": {
          "base_uri": "https://localhost:8080/"
        },
        "outputId": "ec1eece4-f6dd-44fa-a9b1-23aaae999989"
      },
      "source": [
        "re.findall(\"..Bathroom\",real[0].get_text().strip())"
      ],
      "execution_count": 20,
      "outputs": [
        {
          "output_type": "execute_result",
          "data": {
            "text/plain": [
              "['1 Bathroom']"
            ]
          },
          "metadata": {},
          "execution_count": 20
        }
      ]
    },
    {
      "cell_type": "code",
      "metadata": {
        "id": "mBln9lJkxHMz"
      },
      "source": [
        "card_n = soup.find_all(\"div\",{\"class\":\"col-sm-8 col-xs-12\"})[0].text.strip().split(\" \")[3]\n",
        "card_t = soup.find_all(\"div\",{\"class\":\"col-sm-8 col-xs-12\"})[0].text.strip().split(\" \")[5]"
      ],
      "execution_count": 32,
      "outputs": []
    },
    {
      "cell_type": "code",
      "metadata": {
        "colab": {
          "base_uri": "https://localhost:8080/"
        },
        "id": "jbI7DwBe4iDs",
        "outputId": "d5efc719-d059-442a-9bcc-7bc8d218eed8"
      },
      "source": [
        "num_pages = math.ceil(int(card_t)/int(card_n))\n",
        "num_pages"
      ],
      "execution_count": 37,
      "outputs": [
        {
          "output_type": "execute_result",
          "data": {
            "text/plain": [
              "10"
            ]
          },
          "metadata": {},
          "execution_count": 37
        }
      ]
    },
    {
      "cell_type": "code",
      "metadata": {
        "id": "04QmfquS52FQ"
      },
      "source": [
        ""
      ],
      "execution_count": null,
      "outputs": []
    }
  ]
}